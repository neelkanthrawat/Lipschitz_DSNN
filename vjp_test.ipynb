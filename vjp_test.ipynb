{
 "cells": [
  {
   "cell_type": "code",
   "execution_count": 1,
   "metadata": {},
   "outputs": [],
   "source": [
    "import torch\n",
    "import torch.nn as nn\n"
   ]
  },
  {
   "cell_type": "code",
   "execution_count": 2,
   "metadata": {},
   "outputs": [],
   "source": [
    "# General-purpose function to compute the Jacobian matrix using VJP\n",
    "def jacobian_from_vjp(f, x):\n",
    "    \"\"\"\n",
    "    Computes the Jacobian matrix of a function f at x using VJP.\n",
    "    \n",
    "    Args:\n",
    "        f (callable): The function for which to compute the Jacobian. Takes a tensor `x` and outputs a tensor `y`.\n",
    "        x (torch.Tensor): Input tensor with `requires_grad=True`.\n",
    "    \n",
    "    Returns:\n",
    "        torch.Tensor: Jacobian matrix with shape (output_dim, input_dim).\n",
    "    \"\"\"\n",
    "    x = x.requires_grad_()  # Ensure x requires gradient\n",
    "    y = f(x)                # Evaluate the function\n",
    "    output_dim = y.size(0)  # Output dimension of f(x)\n",
    "    input_dim = x.size(0)   # Input dimension of x\n",
    "\n",
    "    # Compute the Jacobian row-by-row using VJP\n",
    "    jacobian_rows = []\n",
    "    for i in range(output_dim):\n",
    "        # Unit vector for the i-th output dimension\n",
    "        grad_output = torch.zeros_like(y)\n",
    "        grad_output[i] = 1.0\n",
    "        # Compute the gradient of y[i] w.r.t. x\n",
    "        vjp = torch.autograd.grad(outputs=y, inputs=x, grad_outputs=grad_output, retain_graph=True)[0]\n",
    "        jacobian_rows.append(vjp)\n",
    "\n",
    "    # Stack rows to form the full Jacobian matrix\n",
    "    jacobian = torch.stack(jacobian_rows)\n",
    "    return jacobian\n"
   ]
  },
  {
   "cell_type": "code",
   "execution_count": 3,
   "metadata": {},
   "outputs": [],
   "source": [
    "# Example: Neural Network as f\n",
    "class SimpleNN(nn.Module):\n",
    "    def __init__(self):\n",
    "        super(SimpleNN, self).__init__()\n",
    "        self.layer1 = nn.Linear(3, 4)\n",
    "        self.layer2 = nn.Linear(4, 2)\n",
    "    \n",
    "    def forward(self, x):\n",
    "        x = torch.relu(self.layer1(x))\n",
    "        return self.layer2(x)\n",
    "    \n",
    "# Example: f is a simple quadratic function\n",
    "def quad_f(x):\n",
    "    return torch.stack([x[0]**2 + x[1], x[1]**2 + x[2]])\n",
    "\n"
   ]
  },
  {
   "cell_type": "code",
   "execution_count": 4,
   "metadata": {},
   "outputs": [
    {
     "name": "stdout",
     "output_type": "stream",
     "text": [
      "Input x: tensor([1., 2., 3.], requires_grad=True)\n",
      "Output f(x): tensor([-0.4327, -0.4846], grad_fn=<ViewBackward0>)\n",
      "Jacobian matrix:\n",
      " tensor([[ 0.0050, -0.1075,  0.0268],\n",
      "        [ 0.0085, -0.1835,  0.0457]])\n",
      "Jacobian matrix (inbuilt):\n",
      " tensor([[ 0.0050, -0.1075,  0.0268],\n",
      "        [ 0.0085, -0.1835,  0.0457]])\n"
     ]
    }
   ],
   "source": [
    "# testing code for neural function\n",
    "# Instantiate the model\n",
    "model = SimpleNN()\n",
    "\n",
    "# Input tensor\n",
    "x = torch.tensor([1.0, 2.0, 3.0], requires_grad=True)\n",
    "\n",
    "# Define the function f using the model\n",
    "def f(x):\n",
    "    return model(x)\n",
    "\n",
    "# Compute the Jacobian of f at x\n",
    "jacobian = jacobian_from_vjp(f, x)\n",
    "jacobian_builtin = torch.autograd.functional.jacobian(f, x)\n",
    "\n",
    "\n",
    "# Output results\n",
    "print(\"Input x:\", x)\n",
    "print(\"Output f(x):\", f(x))\n",
    "print(\"Jacobian matrix:\\n\", jacobian)\n",
    "print(\"Jacobian matrix (inbuilt):\\n\", jacobian_builtin)"
   ]
  },
  {
   "cell_type": "code",
   "execution_count": 5,
   "metadata": {},
   "outputs": [
    {
     "name": "stdout",
     "output_type": "stream",
     "text": [
      "Input x: tensor([1., 2., 3.], requires_grad=True)\n",
      "Output f(x): tensor([3., 7.], grad_fn=<StackBackward0>)\n",
      "Jacobian matrix:\n",
      " tensor([[2., 1., 0.],\n",
      "        [0., 4., 1.]])\n",
      "Jacobian matrix (inbuilt):\n",
      " tensor([[2., 1., 0.],\n",
      "        [0., 4., 1.]])\n"
     ]
    }
   ],
   "source": [
    "# testing code for quadratic function\n",
    "# Input tensor\n",
    "x = torch.tensor([1.0, 2.0, 3.0], requires_grad=True)\n",
    "\n",
    "# Compute the Jacobian of f at x\n",
    "jacobian = jacobian_from_vjp(quad_f, x)\n",
    "\n",
    "# Compute the Jacobian using the inbuilt function\n",
    "jacobian_builtin = torch.autograd.functional.jacobian(quad_f, x)\n",
    "\n",
    "\n",
    "# Output results\n",
    "print(\"Input x:\", x)\n",
    "print(\"Output f(x):\", quad_f(x))\n",
    "print(\"Jacobian matrix:\\n\", jacobian)\n",
    "print(\"Jacobian matrix (inbuilt):\\n\", jacobian_builtin)"
   ]
  },
  {
   "cell_type": "code",
   "execution_count": null,
   "metadata": {},
   "outputs": [],
   "source": []
  },
  {
   "cell_type": "code",
   "execution_count": null,
   "metadata": {},
   "outputs": [],
   "source": []
  }
 ],
 "metadata": {
  "kernelspec": {
   "display_name": "base",
   "language": "python",
   "name": "python3"
  },
  "language_info": {
   "codemirror_mode": {
    "name": "ipython",
    "version": 3
   },
   "file_extension": ".py",
   "mimetype": "text/x-python",
   "name": "python",
   "nbconvert_exporter": "python",
   "pygments_lexer": "ipython3",
   "version": "3.8.8"
  }
 },
 "nbformat": 4,
 "nbformat_minor": 2
}
