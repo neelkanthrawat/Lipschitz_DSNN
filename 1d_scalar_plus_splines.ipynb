{
 "cells": [
  {
   "cell_type": "markdown",
   "metadata": {},
   "source": [
    "in simple_test_NF_splines.ipynb, we investigated the behavious of a single spline. Now let's see how things change if we also include a global learnable parameter before we pass things through the spline!"
   ]
  },
  {
   "cell_type": "code",
   "execution_count": 1,
   "metadata": {},
   "outputs": [],
   "source": [
    "import numpy as np\n",
    "import matplotlib.pyplot as plt\n",
    "from sklearn.model_selection import train_test_split\n",
    "\n",
    "import torch\n",
    "import torch.nn as nn\n",
    "from torch.utils.data import DataLoader, TensorDataset, Dataset\n",
    "\n",
    "from activations.linearspline_slope_constraint import LinearSplineSlopeConstrained\n",
    "\n",
    "import os\n",
    "import json\n",
    "from tqdm import tqdm\n",
    "\n",
    "import torch.optim as optim\n",
    "from torch.nn.utils import clip_grad_norm_"
   ]
  },
  {
   "cell_type": "code",
   "execution_count": 2,
   "metadata": {},
   "outputs": [],
   "source": [
    "def TV2(model, device_info):\n",
    "    \"\"\"\n",
    "    Computes the sum of the TV(2) (second-order total-variation)\n",
    "    semi-norm of all linearspline activations in the network.\n",
    "\n",
    "    Returns:\n",
    "        tv2 (0d Tensor):\n",
    "            tv2 = sum(TV(2))\n",
    "    \"\"\"\n",
    "    tv2 = torch.Tensor([0.]).to(device_info)\n",
    "\n",
    "    for module in model.modules():\n",
    "        if isinstance(module, LinearSplineSlopeConstrained):\n",
    "            module_tv2 = module.totalVariation(mode='additive')\n",
    "            tv2 = tv2 + module_tv2.norm(p=1)\n",
    "    # print(\"tv2 is:\"); print(tv2)\n",
    "\n",
    "    return tv2[0] "
   ]
  },
  {
   "cell_type": "code",
   "execution_count": 3,
   "metadata": {},
   "outputs": [],
   "source": [
    "# Now i need to train this model using NLL loss\n",
    "def nll_loss(z, det_jacobian):\n",
    "    '''\n",
    "    z :  tensor z in latent space\n",
    "    det_jacobian : det(J_{f}(xi)) for each xi (we will take abs in this fn later)\n",
    "    '''\n",
    "    loss_1 = 0.5 * torch.sum(z**2)\n",
    "    loss_2 = torch.sum(torch.log(torch.abs(det_jacobian) + 1e-10))\n",
    "    dataset_length = z.size(0)\n",
    "    loss = (loss_1-loss_2)/ dataset_length\n",
    "    return loss"
   ]
  },
  {
   "cell_type": "code",
   "execution_count": 4,
   "metadata": {},
   "outputs": [
    {
     "name": "stdout",
     "output_type": "stream",
     "text": [
      "Training set size: 35000\n",
      "Validation set size: 7500\n",
      "Test set size: 7500\n"
     ]
    }
   ],
   "source": [
    "# Function to generate data from a 1D Gaussian distribution\n",
    "def generate_gaussian_data(mean, \n",
    "            std_dev, total_samples, train_ratio=0.7, val_ratio=0.15):\n",
    "    \"\"\"\n",
    "    Generate training, validation, and test datasets from a 1D Gaussian distribution.\n",
    "\n",
    "    Parameters:\n",
    "    - mean: Mean of the Gaussian distribution\n",
    "    - std_dev: Standard deviation of the Gaussian distribution\n",
    "    - total_samples: Total number of samples to generate\n",
    "    - train_ratio: Proportion of data to use for training (default is 70%)\n",
    "    - val_ratio: Proportion of data to use for validation (default is 15%)\n",
    "\n",
    "    Returns:\n",
    "    - train_data: Training set\n",
    "    - val_data: Validation set\n",
    "    - test_data: Test set\n",
    "    \"\"\"\n",
    "    # Generate data\n",
    "    data = np.random.normal(loc=mean, scale=std_dev, size=total_samples)\n",
    "\n",
    "    # Shuffle data\n",
    "    np.random.shuffle(data)\n",
    "\n",
    "    # Split data based on ratios\n",
    "    train_end = int(total_samples * train_ratio)\n",
    "    val_end = train_end + int(total_samples * val_ratio)\n",
    "\n",
    "    train_data = data[:train_end]\n",
    "    val_data = data[train_end:val_end]\n",
    "    test_data = data[val_end:]\n",
    "\n",
    "    return train_data, val_data, test_data\n",
    "\n",
    "# Function to convert datasets into DataLoaders\n",
    "def create_dataloaders(train_data, val_data, test_data, batch_size=32):\n",
    "    \"\"\"\n",
    "    Convert numpy arrays into PyTorch DataLoaders.\n",
    "\n",
    "    Parameters:\n",
    "    - train_data: Training dataset (numpy array)\n",
    "    - val_data: Validation dataset (numpy array)\n",
    "    - test_data: Test dataset (numpy array)\n",
    "    - batch_size: Batch size for the DataLoaders\n",
    "\n",
    "    Returns:\n",
    "    - train_loader: DataLoader for training data\n",
    "    - val_loader: DataLoader for validation data\n",
    "    - test_loader: DataLoader for test data\n",
    "    \"\"\"\n",
    "    # Convert numpy arrays to PyTorch tensors\n",
    "    train_tensor = torch.tensor(train_data, dtype=torch.float32)\n",
    "    val_tensor = torch.tensor(val_data, dtype=torch.float32)\n",
    "    test_tensor = torch.tensor(test_data, dtype=torch.float32)\n",
    "\n",
    "    # Create TensorDatasets\n",
    "    train_dataset = TensorDataset(train_tensor)\n",
    "    val_dataset = TensorDataset(val_tensor)\n",
    "    test_dataset = TensorDataset(test_tensor)\n",
    "\n",
    "    # Create DataLoaders\n",
    "    train_loader = DataLoader(train_dataset, batch_size=batch_size, shuffle=True)\n",
    "    val_loader = DataLoader(val_dataset, batch_size=batch_size, shuffle=False)\n",
    "    test_loader = DataLoader(test_dataset, batch_size=batch_size, shuffle=False)\n",
    "\n",
    "    return train_loader, val_loader, test_loader\n",
    "\n",
    "# Example usage\n",
    "mean = 1\n",
    "std_dev = 2\n",
    "total_samples = 50000\n",
    "\n",
    "train_data, val_data, test_data = generate_gaussian_data(mean, std_dev, total_samples)\n",
    "# Reshape data before returning\n",
    "train_data = train_data.reshape(-1, 1)\n",
    "val_data = val_data.reshape(-1, 1)\n",
    "test_data = test_data.reshape(-1, 1)\n",
    "\n",
    "# Convert to DataLoaders\n",
    "batch_size = 32\n",
    "train_loader, val_loader, test_loader = create_dataloaders(train_data, val_data, test_data, batch_size)\n",
    "\n",
    "# Print dataset sizes\n",
    "print(f\"Training set size: {len(train_data)}\")\n",
    "print(f\"Validation set size: {len(val_data)}\")\n",
    "print(f\"Test set size: {len(test_data)}\")\n"
   ]
  },
  {
   "cell_type": "code",
   "execution_count": 5,
   "metadata": {},
   "outputs": [],
   "source": [
    "def plot_loss_curves(train_loss, val_loss,title, log_scale=False):\n",
    "    ''' plots train and val loss'''\n",
    "    plt.figure()\n",
    "    plt.plot(train_loss,\"-o\" ,label=\"train\")\n",
    "    plt.plot(val_loss, \"-o\",label = \"val\")\n",
    "    if log_scale:\n",
    "        plt.yscale(\"log\")\n",
    "    plt.xlabel(\"epochs\")\n",
    "    plt.ylabel(\"loss\")\n",
    "    plt.title(title)\n",
    "    plt.legend()\n",
    "    plt.show()"
   ]
  },
  {
   "cell_type": "code",
   "execution_count": 6,
   "metadata": {},
   "outputs": [],
   "source": [
    "def plot_code_distribution(model, test_loader, num_samples=1000):\n",
    "    \"\"\"\n",
    "    Plot the code distribution obtained by applying the trained NF model to a test dataset\n",
    "    and compare it to a standard normal distribution.\n",
    "\n",
    "    Args:\n",
    "    - model (NF): Trained NF model.\n",
    "    - test_loader (DataLoader): DataLoader for the test dataset.\n",
    "    - num_samples (int): Number of samples to visualize.\n",
    "\n",
    "    Returns:\n",
    "    None (displays the plot).\n",
    "    \"\"\"\n",
    "    model.eval()  # Set the model to evaluation mode\n",
    "\n",
    "    with torch.no_grad():\n",
    "        # Concatenate multiple batches to obtain more samples\n",
    "        test_samples = torch.cat([batch[0] for batch in test_loader])\n",
    "\n",
    "        # Apply the model to the test samples\n",
    "        code_samples = model(test_samples[:num_samples])\n",
    "\n",
    "        # Convert PyTorch tensor to numpy array\n",
    "        code_np = code_samples.numpy()\n",
    "\n",
    "        # Generate samples from a standard normal distribution\n",
    "        normal_samples = np.random.normal(loc=0, scale=1, size=num_samples)\n",
    "\n",
    "        # Plot histograms of the code distribution and the standard normal distribution\n",
    "        plt.figure(figsize=(10, 6))\n",
    "\n",
    "        # Histogram for the code samples\n",
    "        plt.hist(code_np, bins=25, alpha=0.7, color='blue', density=True, label=\"Code Distribution\")\n",
    "\n",
    "        # Histogram for the standard normal samples\n",
    "        plt.hist(normal_samples, bins=25, alpha=0.7, color='orange', density=True, label=\"Standard Normal Distribution\")\n",
    "\n",
    "        # Add labels, legend, and title\n",
    "        plt.xlabel(\"Value\")\n",
    "        plt.ylabel(\"Density\")\n",
    "        plt.title(\"Comparison of Code Distribution and Standard Normal Distribution\")\n",
    "        plt.legend()\n",
    "        plt.show()\n"
   ]
  },
  {
   "cell_type": "code",
   "execution_count": 7,
   "metadata": {},
   "outputs": [],
   "source": [
    "def plot_multiple_histogram(list_of_inputs, labels_list):\n",
    "    # add a code line here: if the inputs are not numpy, convert them to numpy\n",
    "    plt.figure(figsize=(10, 6))\n",
    "\n",
    "    for i in range(0,len(list_of_inputs)):\n",
    "        # Histogram for the code samples\n",
    "        plt.hist(list_of_inputs[i], bins=50, alpha=0.7, \n",
    "                density=True, label=labels_list[i])\n",
    "        plt.legend()"
   ]
  },
  {
   "cell_type": "code",
   "execution_count": 8,
   "metadata": {},
   "outputs": [],
   "source": [
    "def plot_coefficients_evolution(num_coeffs,coeffs, slope_constr_coeffs, log_scale=0):\n",
    "    ''' \n",
    "    coeffs= List[list]: \n",
    "        e.g. [ [c1(t0),c2(t0),c3(t0)], [c1(t1),c2(t1),c3(t1)] ,..., \n",
    "        [c1(tn),c2(tn),c3(tn)]]\n",
    "    slope_constr_coeffs = List[list]\n",
    "    \n",
    "    '''\n",
    "    plt.figure(figsize=(10, 6))\n",
    "\n",
    "    for i in range(0,num_coeffs):\n",
    "        plt.plot(coeffs[:,i],\"-o\",label=f\"coeff[{i}]\")\n",
    "        plt.plot(slope_constr_coeffs[:,i],\":o\",label=f\"slope constr coeff[{i}]\")\n",
    "    \n",
    "    plt.legend(bbox_to_anchor=(1.05, 1), loc='upper left', borderaxespad=0.)\n",
    "    \n",
    "    if log_scale:\n",
    "        plt.yscale(\"log\")\n",
    "    plt.xlabel(\"training epochs\")\n",
    "    plt.ylabel(\"coefficient values\")\n",
    "    plt.grid(1)\n",
    "    plt.title(\"Evolution of coefficients with training of a spline\")\n",
    "    plt.tight_layout()\n"
   ]
  },
  {
   "cell_type": "code",
   "execution_count": 9,
   "metadata": {},
   "outputs": [],
   "source": [
    "# let's try to learn a global scaling factor as well.\n",
    "# we need to define a model whose first layer introduces a global scaling factor \n",
    "# and the second layer is the neural spline slope constrained activation function.\n",
    "\n",
    "import torch\n",
    "import torch.nn as nn\n",
    "\n",
    "# Assuming LinearSplineSlopeConstrained is defined\n",
    "class GlobalScalarPlusSpline(nn.Module):\n",
    "    def __init__(self, initial_scalar=1.0, spline_params=None):\n",
    "        \"\"\"\n",
    "        Args:\n",
    "            initial_scalar (float): Initial value for the scalar multiplier.\n",
    "            spline_params (dict): Parameters for the LinearSplineSlopeConstrained class.\n",
    "        \"\"\"\n",
    "        super(GlobalScalarPlusSpline, self).__init__()\n",
    "        \n",
    "        # Initialize the scalar as a learnable parameter\n",
    "        self.scalar = nn.Parameter(torch.tensor(initial_scalar, dtype=torch.float32))\n",
    "        # self.bias =  nn.Parameter(torch.tensor(1, dtype=torch.float32)) \n",
    "        self.scalar2 = nn.Parameter(torch.tensor(initial_scalar, dtype=torch.float32))\n",
    "        \n",
    "        # Initialize the neural spline activation function inside the model\n",
    "        if spline_params is None:\n",
    "            raise ValueError(\"spline_params must be provided.\")\n",
    "        self.activation = LinearSplineSlopeConstrained(**spline_params)\n",
    "\n",
    "    def forward(self, x):\n",
    "        \"\"\"\n",
    "        Forward pass through the scalar multiplier and neural spline activation.\n",
    "        Args:\n",
    "            x (torch.Tensor): Input tensor.\n",
    "        Returns:\n",
    "            torch.Tensor: Output tensor.\n",
    "        \"\"\"\n",
    "        # # Step 1: Multiply input with scalar parameter\n",
    "        scaled_input = x * self.scalar\n",
    "\n",
    "        # # Step 2: Pass through the neural spline activation function\n",
    "        output = self.activation(scaled_input)\n",
    "\n",
    "        # #step 3\n",
    "        # scaled_output = output * self.scalar2\n",
    "\n",
    "        # return scaled_output\n",
    "        return output\n"
   ]
  },
  {
   "cell_type": "code",
   "execution_count": 10,
   "metadata": {},
   "outputs": [],
   "source": [
    "def train_and_evaluate(\n",
    "    model, train_loader, val_loader, \n",
    "    lambda_tv2=1e-4, num_epochs=10, \n",
    "    lr=0.001, print_after=1, tv2_regulation=False, \n",
    "    scheduler_type=\"StepLR\", step_size=5, gamma=0.1,\n",
    "    track_coefficients=False\n",
    "):\n",
    "    \"\"\"\n",
    "    Train the model with scalar and spline activation and evaluate on a validation dataset.\n",
    "\n",
    "    Args:\n",
    "    - model: The model with scalar and spline activation.\n",
    "    - train_loader (DataLoader): DataLoader for the training dataset.\n",
    "    - val_loader (DataLoader): DataLoader for the validation dataset.\n",
    "    - num_epochs (int): Number of training epochs.\n",
    "    - lr (float): Learning rate for the optimizer.\n",
    "    - print_after (int): Number of epochs after which to print the training and validation loss.\n",
    "    - scheduler_type (str): Type of scheduler to use (\"StepLR\", \"ExponentialLR\", etc.).\n",
    "    - step_size (int): Step size for the StepLR scheduler (if applicable).\n",
    "    - gamma (float): Multiplicative factor for learning rate decay.\n",
    "    - track_coefficients (bool): Whether to track the coefficients of the spline activation.\n",
    "\n",
    "    Returns:\n",
    "    - train_losses (list): List of training losses for each epoch.\n",
    "    - val_losses (list): List of validation losses for each epoch.\n",
    "    - (Optional) coeffs_evol, slope_const_coeffs_evol if track_coefficients=True.\n",
    "    \"\"\"\n",
    "    import torch.optim as optim\n",
    "    from tqdm import tqdm\n",
    "\n",
    "    # Define the optimizer\n",
    "    optimizer = optim.Adam(model.parameters(), lr=lr)\n",
    "\n",
    "    # Define the scheduler\n",
    "    if scheduler_type == \"StepLR\":\n",
    "        scheduler = optim.lr_scheduler.StepLR(optimizer, step_size=step_size, gamma=gamma)\n",
    "    elif scheduler_type == \"ExponentialLR\":\n",
    "        scheduler = optim.lr_scheduler.ExponentialLR(optimizer, gamma=gamma)\n",
    "    elif scheduler_type == \"ReduceLROnPlateau\":\n",
    "        scheduler = optim.lr_scheduler.ReduceLROnPlateau(optimizer, mode='min', factor=gamma, patience=2)\n",
    "    else:\n",
    "        raise ValueError(\"Unsupported scheduler type. Choose from 'StepLR', 'ExponentialLR', or 'ReduceLROnPlateau'.\")\n",
    "\n",
    "    train_losses = []  # List to store training losses\n",
    "    val_losses = []  # List to store validation losses\n",
    "    if track_coefficients:\n",
    "        coeffs_evol = []\n",
    "        slope_const_coeffs_evol = []\n",
    "\n",
    "    for epoch in tqdm(range(num_epochs), desc=\"Training Progress\"):\n",
    "        total_train_loss = 0.0\n",
    "\n",
    "        if track_coefficients:\n",
    "            # Extract coefficients of the spline activation function\n",
    "            coeffs = model.activation.coefficients_vect.detach().cpu().numpy()\n",
    "            slope_const_coeffs = model.activation.slope_constrained_coefficients_vect.detach().cpu().numpy()\n",
    "            coeffs_evol.append(list(coeffs))\n",
    "            slope_const_coeffs_evol.append(list(slope_const_coeffs))\n",
    "\n",
    "        # Training phase\n",
    "        model.train()  # Set the model to training mode\n",
    "        for data in train_loader:\n",
    "            inputs = data[0]  # Assuming data is a list containing the tensor [tensor()]\n",
    "\n",
    "            # Zero the gradients\n",
    "            optimizer.zero_grad()\n",
    "\n",
    "            # Forward pass\n",
    "            outputs = model(inputs)\n",
    "\n",
    "            # Loss calculation\n",
    "            ## Normal loss term\n",
    "            train_loss = nll_loss(outputs, model.activation.grad_x_temp)\n",
    "\n",
    "            ### TV2 regularization term\n",
    "            if tv2_regulation:\n",
    "                tv2_regul = TV2(model, model.activation.coefficients_vect.device)\n",
    "\n",
    "            ## Total loss\n",
    "            total_loss = train_loss + lambda_tv2 * tv2_regul if tv2_regulation else train_loss\n",
    "\n",
    "            # Backward pass (gradient computation)\n",
    "            total_loss.backward()\n",
    "\n",
    "            # Update weights\n",
    "            optimizer.step()\n",
    "            total_train_loss += total_loss.item()\n",
    "\n",
    "        # Step the scheduler\n",
    "        if scheduler_type != \"ReduceLROnPlateau\":\n",
    "            scheduler.step()\n",
    "        else:\n",
    "            scheduler.step(total_train_loss / len(train_loader))\n",
    "\n",
    "        # Average training loss for the epoch\n",
    "        average_train_loss = total_train_loss / len(train_loader)\n",
    "\n",
    "        # Validation phase\n",
    "        if val_loader is not None:\n",
    "            model.eval()  # Set the model to evaluation mode\n",
    "            total_val_loss = 0.0\n",
    "            with torch.no_grad():\n",
    "                for val_data in val_loader:\n",
    "                    val_inputs = val_data[0]\n",
    "\n",
    "                    # Forward pass for validation\n",
    "                    val_outputs = model(val_inputs)\n",
    "\n",
    "                    # Loss calculation for validation\n",
    "                    val_loss = nll_loss(val_outputs, model.activation.grad_x_temp)\n",
    "                    total_val_loss += val_loss.item()\n",
    "\n",
    "            # Average validation loss for the epoch\n",
    "            average_val_loss = total_val_loss / len(val_loader)\n",
    "\n",
    "            # Print training and validation losses together\n",
    "            if (epoch + 1) % print_after == 0:\n",
    "                print(\n",
    "                    f\"Epoch {epoch + 1}/{num_epochs}, \"\n",
    "                    f\"Training Loss: {average_train_loss}, \"\n",
    "                    f\"Validation Loss: {average_val_loss}, \"\n",
    "                    f\"LR: {scheduler.get_last_lr()[0]},\"\n",
    "                )\n",
    "\n",
    "            # Append losses to the lists\n",
    "            train_losses.append(average_train_loss)\n",
    "            val_losses.append(average_val_loss)\n",
    "\n",
    "        # Reset model to training mode\n",
    "        model.train()\n",
    "\n",
    "    print(\"Training complete\")\n",
    "\n",
    "    if track_coefficients:\n",
    "        return train_losses, val_losses, coeffs_evol, slope_const_coeffs_evol\n",
    "    return train_losses, val_losses\n"
   ]
  },
  {
   "cell_type": "code",
   "execution_count": 109,
   "metadata": {},
   "outputs": [
    {
     "name": "stdout",
     "output_type": "stream",
     "text": [
      "initial nodal_val_locs: tensor([[-6.3000, -4.0000,  2.7000,  4.5000,  6.5000]])\n",
      "initial fn values: Parameter containing:\n",
      "tensor([0.0000, 0.0000, 2.7000, 4.5000, 6.5000], requires_grad=True)\n",
      "parameters are:\n",
      "scalar torch.Size([]) True\n",
      "scalar2 torch.Size([]) True\n",
      "activation.coefficients_vect torch.Size([5]) True\n"
     ]
    },
    {
     "name": "stderr",
     "output_type": "stream",
     "text": [
      "d:\\Desktop\\lipschitz_network_third_sem\\Lipschitz_DSNN\\activations\\linearspline_slope_constraint.py:189: UserWarning: To copy construct from a tensor, it is recommended to use sourceTensor.clone().detach() or sourceTensor.clone().detach().requires_grad_(True), rather than torch.tensor(sourceTensor).\n",
      "  self.nodal_val_loc_tensor = torch.tensor(grid_values).expand((num_activations, size))\n"
     ]
    }
   ],
   "source": [
    "### let's now define our model\n",
    "spline_params = {\n",
    "    \"mode\": \"fc\",\n",
    "    \"num_activations\": 1,\n",
    "    \"size\": 5,\n",
    "    \"range_\": 10,\n",
    "    \"grid_values\": torch.tensor([-6.3, -4, 2.7, 4.5, 6.5]),\n",
    "    \"init\": \"relu\",\n",
    "    \"smin\": 0.001,\n",
    "    \"smax\": 1 / 0.001,\n",
    "    \"slope_constrained\": True,\n",
    "}\n",
    "\n",
    "# Instantiate the model with internal activation function\n",
    "model = GlobalScalarPlusSpline(initial_scalar=1.0, spline_params=spline_params)\n",
    "\n",
    "# check the parameters:\n",
    "print(\"parameters are:\")\n",
    "for name, param in model.named_parameters():\n",
    "    print(name, param.shape, param.requires_grad)\n"
   ]
  },
  {
   "cell_type": "code",
   "execution_count": 110,
   "metadata": {},
   "outputs": [
    {
     "name": "stderr",
     "output_type": "stream",
     "text": [
      "Training Progress:  10%|█         | 1/10 [00:09<01:23,  9.26s/it]"
     ]
    },
    {
     "name": "stdout",
     "output_type": "stream",
     "text": [
      "Epoch 1/10, Training Loss: 2.6650567892700487, Validation Loss: 1.9633630970691114, LR: 0.0005,\n"
     ]
    },
    {
     "name": "stderr",
     "output_type": "stream",
     "text": [
      "Training Progress:  20%|██        | 2/10 [00:18<01:12,  9.07s/it]"
     ]
    },
    {
     "name": "stdout",
     "output_type": "stream",
     "text": [
      "Epoch 2/10, Training Loss: 1.5854715081629849, Validation Loss: 1.27981828577975, LR: 0.0005,\n"
     ]
    },
    {
     "name": "stderr",
     "output_type": "stream",
     "text": [
      "Training Progress:  30%|███       | 3/10 [00:27<01:02,  8.98s/it]"
     ]
    },
    {
     "name": "stdout",
     "output_type": "stream",
     "text": [
      "Epoch 3/10, Training Loss: 1.112466207152093, Validation Loss: 0.9979702744078129, LR: 0.0005,\n"
     ]
    },
    {
     "name": "stderr",
     "output_type": "stream",
     "text": [
      "Training Progress:  40%|████      | 4/10 [00:38<00:58,  9.79s/it]"
     ]
    },
    {
     "name": "stdout",
     "output_type": "stream",
     "text": [
      "Epoch 4/10, Training Loss: 0.9559331299291014, Validation Loss: 0.9336676526576915, LR: 0.0005,\n"
     ]
    },
    {
     "name": "stderr",
     "output_type": "stream",
     "text": [
      "Training Progress:  50%|█████     | 5/10 [00:47<00:49,  9.81s/it]"
     ]
    },
    {
     "name": "stdout",
     "output_type": "stream",
     "text": [
      "Epoch 5/10, Training Loss: 0.9297990180020794, Validation Loss: 0.9286508846790232, LR: 0.0005,\n"
     ]
    },
    {
     "name": "stderr",
     "output_type": "stream",
     "text": [
      "Training Progress:  60%|██████    | 6/10 [00:58<00:40, 10.20s/it]"
     ]
    },
    {
     "name": "stdout",
     "output_type": "stream",
     "text": [
      "Epoch 6/10, Training Loss: 0.9291548970848377, Validation Loss: 0.9297854550341342, LR: 0.0005,\n"
     ]
    },
    {
     "name": "stderr",
     "output_type": "stream",
     "text": [
      "Training Progress:  70%|███████   | 7/10 [01:09<00:31, 10.34s/it]"
     ]
    },
    {
     "name": "stdout",
     "output_type": "stream",
     "text": [
      "Epoch 7/10, Training Loss: 0.9302164511227302, Validation Loss: 0.9304913924095478, LR: 0.0005,\n"
     ]
    },
    {
     "name": "stderr",
     "output_type": "stream",
     "text": [
      "Training Progress:  80%|████████  | 8/10 [01:18<00:19,  9.99s/it]"
     ]
    },
    {
     "name": "stdout",
     "output_type": "stream",
     "text": [
      "Epoch 8/10, Training Loss: 0.930547187979958, Validation Loss: 0.9305701263407443, LR: 0.0005,\n"
     ]
    },
    {
     "name": "stderr",
     "output_type": "stream",
     "text": [
      "Training Progress:  90%|█████████ | 9/10 [01:28<00:09,  9.81s/it]"
     ]
    },
    {
     "name": "stdout",
     "output_type": "stream",
     "text": [
      "Epoch 9/10, Training Loss: 0.9305726097423372, Validation Loss: 0.9305738205605365, LR: 5e-05,\n"
     ]
    },
    {
     "name": "stderr",
     "output_type": "stream",
     "text": [
      "Training Progress: 100%|██████████| 10/10 [01:38<00:00,  9.85s/it]"
     ]
    },
    {
     "name": "stdout",
     "output_type": "stream",
     "text": [
      "Epoch 10/10, Training Loss: 0.9305738210133269, Validation Loss: 0.9305738205605365, LR: 5e-05,\n",
      "Training complete\n"
     ]
    },
    {
     "name": "stderr",
     "output_type": "stream",
     "text": [
      "\n"
     ]
    }
   ],
   "source": [
    "train_losses, val_losses, coeffs_evol, slope_const_coeffs_evol= train_and_evaluate(\n",
    "                model=model,\n",
    "                train_loader=train_loader,\n",
    "                val_loader=val_loader,\n",
    "                num_epochs=10,\n",
    "                lr=0.0005,\n",
    "                print_after=1,\n",
    "                scheduler_type='ReduceLROnPlateau',\n",
    "                track_coefficients=True)\n"
   ]
  },
  {
   "cell_type": "code",
   "execution_count": 111,
   "metadata": {},
   "outputs": [
    {
     "data": {
      "image/png": "[encoded data removed]",
      "text/plain": [
       "<Figure size 432x288 with 1 Axes>"
      ]
     },
     "metadata": {
      "needs_background": "light"
     },
     "output_type": "display_data"
    }
   ],
   "source": [
    "# let's plot the results and see how it works\n",
    "plot_loss_curves(train_losses, val_losses, \n",
    "                title=\"without TV2 regularisation\",\n",
    "                )"
   ]
  },
  {
   "cell_type": "code",
   "execution_count": 112,
   "metadata": {},
   "outputs": [
    {
     "data": {
      "image/png": "[encoded data removed]",
      "text/plain": [
       "<Figure size 720x432 with 1 Axes>"
      ]
     },
     "metadata": {
      "needs_background": "light"
     },
     "output_type": "display_data"
    }
   ],
   "source": [
    "plot_coefficients_evolution(num_coeffs=5,coeffs=np.array(coeffs_evol),\n",
    "                            slope_constr_coeffs=np.array(slope_const_coeffs_evol),\n",
    "                            )"
   ]
  },
  {
   "cell_type": "code",
   "execution_count": 115,
   "metadata": {},
   "outputs": [
    {
     "data": {
      "image/png": "[encoded data removed]",
      "text/plain": [
       "<Figure size 720x432 with 1 Axes>"
      ]
     },
     "metadata": {
      "needs_background": "light"
     },
     "output_type": "display_data"
    }
   ],
   "source": [
    "plot_code_distribution(model=model, \n",
    "                    test_loader=test_loader,\n",
    "                    num_samples=len(test_data))"
   ]
  },
  {
   "cell_type": "code",
   "execution_count": 116,
   "metadata": {},
   "outputs": [
    {
     "data": {
      "image/png": "[encoded data removed]",
      "text/plain": [
       "<Figure size 720x432 with 1 Axes>"
      ]
     },
     "metadata": {
      "needs_background": "light"
     },
     "output_type": "display_data"
    }
   ],
   "source": [
    "test_op_without_tv2 =  model(torch.tensor(test_data))\n",
    "plot_multiple_histogram([test_op_without_tv2.detach().numpy()], \n",
    "                        labels_list=[\"code-data (z-space)\"])"
   ]
  },
  {
   "cell_type": "markdown",
   "metadata": {},
   "source": [
    "It did not work. It simply learned the global coefficient as 0. it kinda makes sense as this would lead to $z^{2}$ term in the loss becoming as low as possible! When i included the global scalar factor before and after the activation function, then the one after activation reduced to 0 (owing to the same reason I feel)!"
   ]
  }
 ],
 "metadata": {
  "kernelspec": {
   "display_name": "base",
   "language": "python",
   "name": "python3"
  },
  "language_info": {
   "codemirror_mode": {
    "name": "ipython",
    "version": 3
   },
   "file_extension": ".py",
   "mimetype": "text/x-python",
   "name": "python",
   "nbconvert_exporter": "python",
   "pygments_lexer": "ipython3",
   "version": "3.8.8"
  }
 },
 "nbformat": 4,
 "nbformat_minor": 2
}
