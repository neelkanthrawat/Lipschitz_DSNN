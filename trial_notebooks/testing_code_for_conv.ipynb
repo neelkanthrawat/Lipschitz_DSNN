{
 "cells": [
  {
   "cell_type": "markdown",
   "metadata": {},
   "source": [
    "### Testing code for convolution"
   ]
  },
  {
   "cell_type": "code",
   "execution_count": 1,
   "metadata": {},
   "outputs": [],
   "source": [
    "import sys\n",
    "sys.path.append('D:\\\\Desktop\\\\Lipschitz_DSNN') "
   ]
  },
  {
   "cell_type": "code",
   "execution_count": 2,
   "metadata": {},
   "outputs": [],
   "source": [
    "import numpy as np\n",
    "import torch\n",
    "import os\n",
    "import json\n",
    "import matplotlib.pyplot as plt\n",
    "from tqdm import tqdm\n",
    "from torch.utils.data import DataLoader, Dataset\n",
    "from sklearn.model_selection import train_test_split\n",
    "# from torch.utils import tensorboard\n",
    "import torch.nn as nn\n",
    "\n",
    "from architectures.base_model import BaseModel\n",
    "from architectures.simple_fc import SimpleFC\n",
    "from layers.lipschitzlinear import LipschitzLinear\n",
    "from projections.fc_projections import identity, bjorck_orthonormalize_fc, layerwise_orthogonal_fc\n",
    "from utils import metrics, utilities, spline_utils\n",
    "from dataloader.Function_1D import Function1D, generate_testing_set, slope_1_ae, slope_1_flat, cosines, threshold\n",
    "from activations.linearspline import LinearSpline"
   ]
  },
  {
   "cell_type": "markdown",
   "metadata": {},
   "source": [
    "Tasks to do:\n",
    "\n",
    "1. load the network params dictionary for cnn.\n",
    "2. adapt the code for a cnn based classifier network. \n",
    "3. test the code with and without bjorck orthonormalisation using MNIST/CIFAR dataset.\n",
    "4. Implement LOT orthonormalisation in the  `utils.py` of BCOP and then test the cnn based classifier again."
   ]
  },
  {
   "cell_type": "code",
   "execution_count": null,
   "metadata": {},
   "outputs": [],
   "source": []
  }
 ],
 "metadata": {
  "kernelspec": {
   "display_name": "base",
   "language": "python",
   "name": "python3"
  },
  "language_info": {
   "codemirror_mode": {
    "name": "ipython",
    "version": 3
   },
   "file_extension": ".py",
   "mimetype": "text/x-python",
   "name": "python",
   "nbconvert_exporter": "python",
   "pygments_lexer": "ipython3",
   "version": "3.8.8"
  }
 },
 "nbformat": 4,
 "nbformat_minor": 2
}
